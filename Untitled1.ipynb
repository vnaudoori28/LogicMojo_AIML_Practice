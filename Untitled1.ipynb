{
  "nbformat": 4,
  "nbformat_minor": 0,
  "metadata": {
    "colab": {
      "provenance": [],
      "authorship_tag": "ABX9TyPX3rBad8z7eANcD7TRLuzR",
      "include_colab_link": true
    },
    "kernelspec": {
      "name": "python3",
      "display_name": "Python 3"
    },
    "language_info": {
      "name": "python"
    }
  },
  "cells": [
    {
      "cell_type": "markdown",
      "metadata": {
        "id": "view-in-github",
        "colab_type": "text"
      },
      "source": [
        "<a href=\"https://colab.research.google.com/github/vnaudoori28/LogicMojo_AIML_Practice/blob/main/Untitled1.ipynb\" target=\"_parent\"><img src=\"https://colab.research.google.com/assets/colab-badge.svg\" alt=\"Open In Colab\"/></a>"
      ]
    },
    {
      "cell_type": "code",
      "execution_count": null,
      "metadata": {
        "colab": {
          "base_uri": "https://localhost:8080/"
        },
        "id": "Rv7U2olxx1K5",
        "outputId": "9eec0579-c663-4000-e6b5-1f5ac10a53ed"
      },
      "outputs": [
        {
          "output_type": "stream",
          "name": "stdout",
          "text": [
            "*****\n",
            "*****\n",
            "*****\n"
          ]
        }
      ],
      "source": [
        "for x in range(3):\n",
        "  for y in range(5):\n",
        "    print('*', end = '')\n",
        "  print('')\n"
      ]
    },
    {
      "cell_type": "code",
      "source": [
        "s = {1,2,3,4,5,6,7,8}\n",
        "print(s.pop())\n",
        "print(s)\n",
        "print(s.pop())\n",
        "print(s)\n",
        "print(s.pop())\n",
        "print(s)\n",
        "print(s.pop())\n",
        "print(s)\n"
      ],
      "metadata": {
        "colab": {
          "base_uri": "https://localhost:8080/"
        },
        "id": "TJRT2d84MPCy",
        "outputId": "9e394324-bfe2-4b4c-b3e0-d34ee2c74b3a"
      },
      "execution_count": null,
      "outputs": [
        {
          "output_type": "stream",
          "name": "stdout",
          "text": [
            "1\n",
            "{2, 3, 4, 5, 6, 7, 8}\n",
            "2\n",
            "{3, 4, 5, 6, 7, 8}\n",
            "3\n",
            "{4, 5, 6, 7, 8}\n",
            "4\n",
            "{5, 6, 7, 8}\n"
          ]
        }
      ]
    },
    {
      "cell_type": "code",
      "source": [
        "from google.colab import drive\n",
        "drive.mount('/content/drive')"
      ],
      "metadata": {
        "id": "3zHwUcUHSFz_"
      },
      "execution_count": null,
      "outputs": []
    },
    {
      "cell_type": "code",
      "source": [
        "# Replace the link with your repository URL\n",
        "!git clone https://github.com/vnaudoori28/LogicMojo_AIML_Practice1\n",
        "\n"
      ],
      "metadata": {
        "colab": {
          "base_uri": "https://localhost:8080/"
        },
        "id": "9962wapvOdvc",
        "outputId": "9257486c-bef4-4a24-847c-9f3e4f5adc12"
      },
      "execution_count": null,
      "outputs": [
        {
          "output_type": "stream",
          "name": "stdout",
          "text": [
            "Cloning into 'LogicMojo_AIML_Practice1'...\n",
            "fatal: could not read Username for 'https://github.com': No such device or address\n"
          ]
        }
      ]
    },
    {
      "cell_type": "markdown",
      "source": [
        "# New Section"
      ],
      "metadata": {
        "id": "leL3BlINS_t6"
      }
    },
    {
      "cell_type": "markdown",
      "source": [
        "# New Section"
      ],
      "metadata": {
        "id": "jeg7tBk8TBiM"
      }
    },
    {
      "cell_type": "code",
      "source": [
        "s = '{{{((())}}}('\n",
        "\n",
        "Balanced = True\n",
        "\n",
        "l = []\n",
        "\n",
        "for i in s :\n",
        "  if len(l)==0 or i == '{' or i == '(' or i == '[' :\n",
        "    l.append(i)\n",
        "  else :\n",
        "    l.pop(i)\n",
        "len(l)"
      ],
      "metadata": {
        "colab": {
          "base_uri": "https://localhost:8080/",
          "height": 193
        },
        "id": "bHFts2FETFpI",
        "outputId": "efde3321-326c-4c00-91c1-6e4f55121358"
      },
      "execution_count": null,
      "outputs": [
        {
          "output_type": "error",
          "ename": "TypeError",
          "evalue": "'str' object cannot be interpreted as an integer",
          "traceback": [
            "\u001b[0;31m---------------------------------------------------------------------------\u001b[0m",
            "\u001b[0;31mTypeError\u001b[0m                                 Traceback (most recent call last)",
            "\u001b[0;32m/tmp/ipython-input-1177472306.py\u001b[0m in \u001b[0;36m<cell line: 0>\u001b[0;34m()\u001b[0m\n\u001b[1;32m      9\u001b[0m     \u001b[0ml\u001b[0m\u001b[0;34m.\u001b[0m\u001b[0mappend\u001b[0m\u001b[0;34m(\u001b[0m\u001b[0mi\u001b[0m\u001b[0;34m)\u001b[0m\u001b[0;34m\u001b[0m\u001b[0;34m\u001b[0m\u001b[0m\n\u001b[1;32m     10\u001b[0m   \u001b[0;32melse\u001b[0m \u001b[0;34m:\u001b[0m\u001b[0;34m\u001b[0m\u001b[0;34m\u001b[0m\u001b[0m\n\u001b[0;32m---> 11\u001b[0;31m     \u001b[0ml\u001b[0m\u001b[0;34m.\u001b[0m\u001b[0mpop\u001b[0m\u001b[0;34m(\u001b[0m\u001b[0mi\u001b[0m\u001b[0;34m)\u001b[0m\u001b[0;34m\u001b[0m\u001b[0;34m\u001b[0m\u001b[0m\n\u001b[0m\u001b[1;32m     12\u001b[0m \u001b[0mlen\u001b[0m\u001b[0;34m(\u001b[0m\u001b[0ml\u001b[0m\u001b[0;34m)\u001b[0m\u001b[0;34m\u001b[0m\u001b[0;34m\u001b[0m\u001b[0m\n",
            "\u001b[0;31mTypeError\u001b[0m: 'str' object cannot be interpreted as an integer"
          ]
        }
      ]
    },
    {
      "cell_type": "code",
      "source": [
        "from functools import reduce\n",
        "def min_a(a,b):\n",
        "  return(min(a,b))\n",
        "\n",
        "l = [3,4,5,6,2]\n",
        "\n",
        "print(reduce(min_a,l))"
      ],
      "metadata": {
        "colab": {
          "base_uri": "https://localhost:8080/"
        },
        "id": "ctcePH2Mg4sR",
        "outputId": "29414d87-5268-4127-bfe4-fc5355fca795"
      },
      "execution_count": null,
      "outputs": [
        {
          "output_type": "stream",
          "name": "stdout",
          "text": [
            "2\n"
          ]
        }
      ]
    },
    {
      "cell_type": "code",
      "source": [
        "def square(number):\n",
        "  return number*number\n",
        "\n",
        "l = [1,2,3,4,5]\n",
        "\n",
        "new_list = list(map (lambda x : x+10, l))\n",
        "new_list\n",
        "\n",
        "new_list = list(map(square,l))\n",
        "new_list\n",
        "\n",
        "l = [lambda arg = x: x+10  for x in range(10)]\n",
        "print(l,end=\" \")\n",
        "print()\n",
        "for i in l:\n",
        "  print(i(), end=\" \")\n"
      ],
      "metadata": {
        "colab": {
          "base_uri": "https://localhost:8080/"
        },
        "id": "O10Pio5Gux1E",
        "outputId": "c15f7240-9819-47be-a18d-b53c37bf5d16"
      },
      "execution_count": null,
      "outputs": [
        {
          "output_type": "stream",
          "name": "stdout",
          "text": [
            "[<function <lambda> at 0x7bcd9c634fe0>, <function <lambda> at 0x7bcd9c635c60>, <function <lambda> at 0x7bcd9c634cc0>, <function <lambda> at 0x7bcd9c634ae0>, <function <lambda> at 0x7bcd9c634e00>, <function <lambda> at 0x7bcd9c635120>, <function <lambda> at 0x7bcd9c635260>, <function <lambda> at 0x7bcd9c634860>, <function <lambda> at 0x7bcd9c636200>, <function <lambda> at 0x7bcd9c636840>] \n",
            "19 19 19 19 19 19 19 19 19 19 "
          ]
        }
      ]
    },
    {
      "cell_type": "code",
      "source": [
        "l = [lambda arg = x: arg+10  for x in range(10)]\n",
        "print(l,end=\" \")\n",
        "print()\n",
        "for i in l:\n",
        "  print(i(), end=\" \")\n",
        "  new_list = list.append(i()) #how do i create a list using lambda ?\n",
        "\n",
        "print(new_list)"
      ],
      "metadata": {
        "colab": {
          "base_uri": "https://localhost:8080/",
          "height": 265
        },
        "id": "ApVNC9UG1Fin",
        "outputId": "6a30dcb8-8a67-42a2-e5d0-48b15a86439a"
      },
      "execution_count": null,
      "outputs": [
        {
          "output_type": "stream",
          "name": "stdout",
          "text": [
            "[<function <lambda> at 0x7bcd9c8bf2e0>, <function <lambda> at 0x7bcd9c8bc900>, <function <lambda> at 0x7bcd9c8bd800>, <function <lambda> at 0x7bcd9c8bdee0>, <function <lambda> at 0x7bcd9c8bcc20>, <function <lambda> at 0x7bcd9c8bfa60>, <function <lambda> at 0x7bcd9c8bfd80>, <function <lambda> at 0x7bcd9c8bd260>, <function <lambda> at 0x7bcd9c8bc5e0>, <function <lambda> at 0x7bcd9c8bccc0>] \n",
            "10 "
          ]
        },
        {
          "output_type": "error",
          "ename": "TypeError",
          "evalue": "descriptor 'append' for 'list' objects doesn't apply to a 'int' object",
          "traceback": [
            "\u001b[0;31m---------------------------------------------------------------------------\u001b[0m",
            "\u001b[0;31mTypeError\u001b[0m                                 Traceback (most recent call last)",
            "\u001b[0;32m/tmp/ipython-input-58917244.py\u001b[0m in \u001b[0;36m<cell line: 0>\u001b[0;34m()\u001b[0m\n\u001b[1;32m      4\u001b[0m \u001b[0;32mfor\u001b[0m \u001b[0mi\u001b[0m \u001b[0;32min\u001b[0m \u001b[0ml\u001b[0m\u001b[0;34m:\u001b[0m\u001b[0;34m\u001b[0m\u001b[0;34m\u001b[0m\u001b[0m\n\u001b[1;32m      5\u001b[0m   \u001b[0mprint\u001b[0m\u001b[0;34m(\u001b[0m\u001b[0mi\u001b[0m\u001b[0;34m(\u001b[0m\u001b[0;34m)\u001b[0m\u001b[0;34m,\u001b[0m \u001b[0mend\u001b[0m\u001b[0;34m=\u001b[0m\u001b[0;34m\" \"\u001b[0m\u001b[0;34m)\u001b[0m\u001b[0;34m\u001b[0m\u001b[0;34m\u001b[0m\u001b[0m\n\u001b[0;32m----> 6\u001b[0;31m   \u001b[0mnew_list\u001b[0m \u001b[0;34m=\u001b[0m \u001b[0mlist\u001b[0m\u001b[0;34m.\u001b[0m\u001b[0mappend\u001b[0m\u001b[0;34m(\u001b[0m\u001b[0mi\u001b[0m\u001b[0;34m(\u001b[0m\u001b[0;34m)\u001b[0m\u001b[0;34m)\u001b[0m\u001b[0;34m\u001b[0m\u001b[0;34m\u001b[0m\u001b[0m\n\u001b[0m\u001b[1;32m      7\u001b[0m \u001b[0;34m\u001b[0m\u001b[0m\n\u001b[1;32m      8\u001b[0m \u001b[0mprint\u001b[0m\u001b[0;34m(\u001b[0m\u001b[0mnew_list\u001b[0m\u001b[0;34m)\u001b[0m\u001b[0;34m\u001b[0m\u001b[0;34m\u001b[0m\u001b[0m\n",
            "\u001b[0;31mTypeError\u001b[0m: descriptor 'append' for 'list' objects doesn't apply to a 'int' object"
          ]
        }
      ]
    },
    {
      "cell_type": "code",
      "source": [
        "l = [1,2,4,6,7,9,10,11]\n",
        "\n",
        "even_list = list(filter(lambda arg : arg % 2 == 0,l))\n",
        "even_list\n",
        "\n"
      ],
      "metadata": {
        "colab": {
          "base_uri": "https://localhost:8080/"
        },
        "id": "bGcqXOK1J4aq",
        "outputId": "ccb6e2ef-abbf-4846-da61-fb42e5815e2b"
      },
      "execution_count": null,
      "outputs": [
        {
          "output_type": "execute_result",
          "data": {
            "text/plain": [
              "[2, 4, 6, 10]"
            ]
          },
          "metadata": {},
          "execution_count": 42
        }
      ]
    },
    {
      "cell_type": "code",
      "source": [
        "## Write a filter function to filter even numbers in a lambda function\n",
        "\n",
        "\n",
        "l= [1,2,3,4]\n",
        "list(filter(lambda x : x % 2 == 0 , l))"
      ],
      "metadata": {
        "colab": {
          "base_uri": "https://localhost:8080/"
        },
        "id": "sj60mVyxMIWe",
        "outputId": "81e2b20f-3aa7-483d-dd9b-99d5851e8a21"
      },
      "execution_count": null,
      "outputs": [
        {
          "output_type": "execute_result",
          "data": {
            "text/plain": [
              "[2, 4]"
            ]
          },
          "metadata": {},
          "execution_count": 37
        }
      ]
    },
    {
      "cell_type": "code",
      "source": [
        "s = {7,\"6\",\"1\",\"2\",\"3\",3,5}\n",
        "print(s)\n",
        "print(s.pop())\n",
        "print(s)\n",
        "print(s.pop())\n",
        "print(s)\n",
        "print(s.pop())\n",
        "print(s)\n",
        "print(s.pop())\n",
        "print(s)\n"
      ],
      "metadata": {
        "colab": {
          "base_uri": "https://localhost:8080/"
        },
        "id": "XibOCARNP7-H",
        "outputId": "6d2c12e1-2289-4a60-bddf-19756bc2c3f9"
      },
      "execution_count": null,
      "outputs": [
        {
          "output_type": "stream",
          "name": "stdout",
          "text": [
            "{'6', 3, 5, 7, '2', '1', '3'}\n",
            "6\n",
            "{3, 5, 7, '2', '1', '3'}\n",
            "3\n",
            "{5, 7, '2', '1', '3'}\n",
            "5\n",
            "{7, '2', '1', '3'}\n",
            "7\n",
            "{'2', '1', '3'}\n"
          ]
        }
      ]
    },
    {
      "cell_type": "code",
      "source": [
        "t = (1,2,3,4,5,6,(1,2))\n",
        "print(t.index(6))\n",
        "print(t[6][1])"
      ],
      "metadata": {
        "colab": {
          "base_uri": "https://localhost:8080/"
        },
        "id": "y6rwoRrYSQfR",
        "outputId": "9b0c4a1e-7310-4f2a-e658-d74be90f47f9"
      },
      "execution_count": null,
      "outputs": [
        {
          "output_type": "stream",
          "name": "stdout",
          "text": [
            "5\n",
            "2\n"
          ]
        }
      ]
    },
    {
      "cell_type": "code",
      "source": [
        "#dict\n",
        "d = dict(name = \"namevalue\", age = 5)\n",
        "print(d)\n",
        "d2 = {'name':\"namevalue\", 'age':10}\n",
        "print(d2)\n",
        "\n",
        "print(d.items())\n",
        "print(d.values())"
      ],
      "metadata": {
        "colab": {
          "base_uri": "https://localhost:8080/"
        },
        "id": "jfN58aeHUtW3",
        "outputId": "99fbf1a9-f687-44f4-d26f-7f0be19582fe"
      },
      "execution_count": null,
      "outputs": [
        {
          "output_type": "stream",
          "name": "stdout",
          "text": [
            "{'name': 'namevalue', 'age': 5}\n",
            "{'name': 'namevalue', 'age': 10}\n",
            "dict_items([('name', 'namevalue'), ('age', 5)])\n",
            "dict_values(['namevalue', 5])\n"
          ]
        }
      ]
    },
    {
      "cell_type": "code",
      "source": [
        "from functools import reduce\n",
        "\n",
        "def decorator(func):\n",
        "    def wrapper(*args, **kwargs):\n",
        "        print(f\"Inputs: {args}\")\n",
        "        result = func(*args, **kwargs)\n",
        "        print(f\"Result: {result}\")\n",
        "        return result\n",
        "    return wrapper\n",
        "\n",
        "@decorator\n",
        "def process_data(data):\n",
        "    mapped = map(lambda x: x * 2, data)\n",
        "    filtered = filter(lambda x: x % 3 == 0, mapped)\n",
        "    reduced = reduce(lambda x, y: x + y, filtered, 10)\n",
        "    return reduced\n",
        "\n",
        "input_data = [1, 2, 3, 4, 5, 6]\n",
        "final_result = process_data(input_data)\n",
        "print(final_result)\n",
        "\n",
        "\n",
        "\n",
        "\n",
        "What will be the output of the code above?\n",
        "A) Inputs: ([1, 2, 3, 4, 5, 6],), Result: 48, 48\n",
        "B) Inputs: ([1, 2, 3, 4, 5, 6],), Result: 28, 28\n",
        "C) Inputs: ([1, 2, 3, 4, 5, 6],), Result: 34, 34\n",
        "D) Inputs: ([1, 2, 3, 4, 5, 6],), Result: 22, 22"
      ],
      "metadata": {
        "id": "S5h0OHPmw6sG"
      },
      "execution_count": null,
      "outputs": []
    },
    {
      "cell_type": "code",
      "source": [
        "from functools import reduce\n",
        "\n",
        "\n",
        "\n",
        "def my_decorator(func):\n",
        "    def wrapper(*args, **kwargs):\n",
        "        print(f\"Original data: {args[0]}\")\n",
        "        result = func(*args, **kwargs)\n",
        "        print(f\"Processed result: {result}\")\n",
        "        return result\n",
        "    return wrapper\n",
        "\n",
        "\n",
        "\n",
        "@my_decorator\n",
        "def process_strings(strings):\n",
        "    mapped = map(lambda s: s.lower().replace('a', '@'), strings)\n",
        "    filtered = filter(lambda s: len(s) > 3, mapped)\n",
        "    reduced = reduce(lambda acc, s: acc + s[0], filtered, \"\")\n",
        "    return reduced\n",
        "\n",
        "data = [\"Apple\", \"Banana\", \"Pear\", \"Kiwi\", \"Mango\"]\n",
        "result = process_strings(data)\n",
        "print(result)\n",
        "\n",
        "\n",
        "What will be the output of the code above?\n",
        "A) Original data: ['Apple', 'Banana', 'Pear', 'Kiwi', 'Mango'], Processed result: \"@bpm\", \"@bpm\"\n",
        "B) Original data: ['Apple', 'Banana', 'Pear', 'Kiwi', 'Mango'], Processed result: \"abp\", \"abp\"\n",
        "C) Original data: ['Apple', 'Banana', 'Pear', 'Kiwi', 'Mango'], Processed result: \"pmb\", \"pmb\"\n",
        "D) Original data:['Apple', 'Banana', 'Pear', 'Kiwi', 'Mango'] Processed result: “bpkm” “bpkm”\n"
      ],
      "metadata": {
        "id": "TbebZ3KGxNSu"
      },
      "execution_count": null,
      "outputs": []
    }
  ]
}